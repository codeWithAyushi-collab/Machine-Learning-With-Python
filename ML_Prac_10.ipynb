{
  "nbformat": 4,
  "nbformat_minor": 0,
  "metadata": {
    "colab": {
      "provenance": []
    },
    "kernelspec": {
      "name": "python3",
      "display_name": "Python 3"
    },
    "language_info": {
      "name": "python"
    }
  },
  "cells": [
    {
      "cell_type": "code",
      "source": [
        "# Import necessary libraries\n",
        "from sklearn.cluster import AgglomerativeClustering\n",
        "from sklearn.metrics import silhouette_score\n",
        "from sklearn.datasets import load_wine\n",
        "import pandas as pd\n",
        "\n",
        "# Load the Wine dataset\n",
        "wine = load_wine()\n",
        "df = pd.DataFrame(wine.data, columns=wine.feature_names)\n",
        "\n",
        "# You can use the features without the target for clustering\n",
        "X = df"
      ],
      "metadata": {
        "id": "mVw9xncNPmHo"
      },
      "execution_count": null,
      "outputs": []
    },
    {
      "cell_type": "code",
      "source": [
        "# Initialize the Agglomerative Clustering model\n",
        "agg_clustering = AgglomerativeClustering(n_clusters=3)  # Set n_clusters based on the dataset\n",
        "\n",
        "# Train the model\n",
        "y_pred_agg = agg_clustering.fit_predict(X)\n",
        "\n",
        "# Evaluate the clustering using silhouette score (optional)\n",
        "sil_score_agg = silhouette_score(X, y_pred_agg)\n",
        "print(f\"Hierarchical Clustering - Silhouette Score: {sil_score_agg}\")\n"
      ],
      "metadata": {
        "colab": {
          "base_uri": "https://localhost:8080/"
        },
        "id": "ojjR2Yq5TajD",
        "outputId": "c5d45a3e-ad48-4a70-9d37-4c2784f5d48a"
      },
      "execution_count": null,
      "outputs": [
        {
          "output_type": "stream",
          "name": "stdout",
          "text": [
            "Hierarchical Clustering - Silhouette Score: 0.5644796401732068\n"
          ]
        }
      ]
    },
    {
      "cell_type": "code",
      "source": [],
      "metadata": {
        "id": "qNN3Zb2fTjMx"
      },
      "execution_count": null,
      "outputs": []
    }
  ]
}