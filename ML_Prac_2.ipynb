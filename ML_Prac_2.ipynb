{
  "nbformat": 4,
  "nbformat_minor": 0,
  "metadata": {
    "colab": {
      "provenance": []
    },
    "kernelspec": {
      "name": "python3",
      "display_name": "Python 3"
    },
    "language_info": {
      "name": "python"
    }
  },
  "cells": [
    {
      "cell_type": "code",
      "source": [
        "from sklearn.model_selection import train_test_split\n",
        "from sklearn.linear_model import LinearRegression\n",
        "from sklearn.metrics import mean_squared_error, r2_score\n",
        "from sklearn.datasets import load_wine\n",
        "import pandas as pd"
      ],
      "metadata": {
        "id": "Iuc6UzfeKekM"
      },
      "execution_count": null,
      "outputs": []
    },
    {
      "cell_type": "code",
      "source": [
        "# Load the Wine dataset\n",
        "wine = load_wine()\n",
        "df = pd.DataFrame(wine.data, columns=wine.feature_names)\n",
        "\n",
        "# Add target column\n",
        "df['target'] = wine.target\n",
        "\n",
        "# Display the first few rows\n",
        "print(\"Wine dataset head:\\n\", df.head())"
      ],
      "metadata": {
        "colab": {
          "base_uri": "https://localhost:8080/"
        },
        "id": "bxbikbv1KfNb",
        "outputId": "662dea96-bc8f-4d03-be98-c7b5c2634ed6"
      },
      "execution_count": null,
      "outputs": [
        {
          "output_type": "stream",
          "name": "stdout",
          "text": [
            "Wine dataset head:\n",
            "    alcohol  malic_acid   ash  alcalinity_of_ash  magnesium  total_phenols  \\\n",
            "0    14.23        1.71  2.43               15.6      127.0           2.80   \n",
            "1    13.20        1.78  2.14               11.2      100.0           2.65   \n",
            "2    13.16        2.36  2.67               18.6      101.0           2.80   \n",
            "3    14.37        1.95  2.50               16.8      113.0           3.85   \n",
            "4    13.24        2.59  2.87               21.0      118.0           2.80   \n",
            "\n",
            "   flavanoids  nonflavanoid_phenols  proanthocyanins  color_intensity   hue  \\\n",
            "0        3.06                  0.28             2.29             5.64  1.04   \n",
            "1        2.76                  0.26             1.28             4.38  1.05   \n",
            "2        3.24                  0.30             2.81             5.68  1.03   \n",
            "3        3.49                  0.24             2.18             7.80  0.86   \n",
            "4        2.69                  0.39             1.82             4.32  1.04   \n",
            "\n",
            "   od280/od315_of_diluted_wines  proline  target  \n",
            "0                          3.92   1065.0       0  \n",
            "1                          3.40   1050.0       0  \n",
            "2                          3.17   1185.0       0  \n",
            "3                          3.45   1480.0       0  \n",
            "4                          2.93    735.0       0  \n"
          ]
        }
      ]
    },
    {
      "cell_type": "code",
      "source": [
        "# Simple Linear Regression\n",
        "# Step 1: Select the feature ('alcohol') and target for Simple Linear Regression\n",
        "X_simple = df[['alcohol']]  # Using 'alcohol' as the single feature\n",
        "y_simple = df['target']  # Target variable is 'target'\n",
        "\n",
        "# Step 2: Split the data into training and testing sets\n",
        "X_train_simple, X_test_simple, y_train_simple, y_test_simple = train_test_split(X_simple, y_simple, test_size=0.2, random_state=42)\n",
        "\n",
        "# Step 3: Train the Simple Linear Regression model\n",
        "simple_regressor = LinearRegression()\n",
        "simple_regressor.fit(X_train_simple, y_train_simple)\n",
        "\n",
        "# Step 4: Make predictions\n",
        "y_pred_simple = simple_regressor.predict(X_test_simple)\n",
        "\n",
        "# Step 5: Evaluate the model\n",
        "mse_simple = mean_squared_error(y_test_simple, y_pred_simple)\n",
        "r2_simple = r2_score(y_test_simple, y_pred_simple)\n",
        "print(f\"\\nSimple Linear Regression - MSE: {mse_simple}, R²: {r2_simple}\")\n",
        "\n",
        "from sklearn.model_selection import cross_val_score\n",
        "# k-fold cross-validation on Simple Linear Regression\n",
        "cv_scores_simple = cross_val_score(simple_regressor, X_simple, y_simple, cv=5, scoring='neg_mean_squared_error') # Changed simple_lr to simple_regressor and y to y_simple\n",
        "print(\"\\nk-Fold Cross-Validation (Simple LR) - MSE Scores:\", -cv_scores_simple)\n",
        "print(\"Mean k-Fold MSE (Simple LR):\", -cv_scores_simple.mean())"
      ],
      "metadata": {
        "colab": {
          "base_uri": "https://localhost:8080/"
        },
        "id": "olwi6tJOKji6",
        "outputId": "07513571-03a3-40c2-a12c-3ed094b07a66"
      },
      "execution_count": null,
      "outputs": [
        {
          "output_type": "stream",
          "name": "stdout",
          "text": [
            "\n",
            "Simple Linear Regression - MSE: 0.507269587602501, R²: 0.13039499268142662\n",
            "\n",
            "k-Fold Cross-Validation (Simple LR) - MSE Scores: [1.30001156 0.5658872  0.10711433 0.48445014 2.23140521]\n",
            "Mean k-Fold MSE (Simple LR): 0.9377736892572976\n"
          ]
        }
      ]
    },
    {
      "cell_type": "code",
      "source": [
        "# Multiple Linear Regression\n",
        "# Step 1: Select multiple features for Multiple Linear Regression\n",
        "X_multiple = df.drop(columns=['target'])  # Using all features except target\n",
        "y_multiple = df['target']  # Target variable is 'target'\n",
        "\n",
        "# Step 2: Split the data into training and testing sets\n",
        "X_train_multiple, X_test_multiple, y_train_multiple, y_test_multiple = train_test_split(X_multiple, y_multiple, test_size=0.2, random_state=42)\n",
        "\n",
        "# Step 3: Train the Multiple Linear Regression model\n",
        "multiple_regressor = LinearRegression()\n",
        "multiple_regressor.fit(X_train_multiple, y_train_multiple)\n",
        "\n",
        "# Step 4: Make predictions\n",
        "y_pred_multiple = multiple_regressor.predict(X_test_multiple)\n",
        "\n",
        "# Step 5: Evaluate the model\n",
        "mse_multiple = mean_squared_error(y_test_multiple, y_pred_multiple)\n",
        "r2_multiple = r2_score(y_test_multiple, y_pred_multiple)\n",
        "print(f\"\\nMultiple Linear Regression - MSE: {mse_multiple}, R²: {r2_multiple}\")\n",
        "\n",
        "# k-fold cross-validation on Multiple Linear Regression\n",
        "cv_scores_multiple = cross_val_score(multiple_regressor, X_multiple, y_multiple, cv=5, scoring='neg_mean_squared_error')\n",
        "print(\"\\nk-Fold Cross-Validation (Multiple LR) - MSE Scores:\", -cv_scores_multiple)\n",
        "print(\"Mean k-Fold MSE (Multiple LR):\", -cv_scores_multiple.mean())"
      ],
      "metadata": {
        "colab": {
          "base_uri": "https://localhost:8080/"
        },
        "id": "BbFprCgtK3r3",
        "outputId": "3de7e23a-eeb3-49e3-849d-626293f628dc"
      },
      "execution_count": null,
      "outputs": [
        {
          "output_type": "stream",
          "name": "stdout",
          "text": [
            "\n",
            "Multiple Linear Regression - MSE: 0.06853348464256047, R²: 0.8825140263270391\n",
            "\n",
            "k-Fold Cross-Validation (Multiple LR) - MSE Scores: [0.0805439  0.11198656 0.08452765 0.13949167 0.0738447 ]\n",
            "Mean k-Fold MSE (Multiple LR): 0.09807889456819846\n"
          ]
        }
      ]
    },
    {
      "cell_type": "code",
      "source": [],
      "metadata": {
        "id": "gvfFKTK5LL13"
      },
      "execution_count": null,
      "outputs": []
    }
  ]
}