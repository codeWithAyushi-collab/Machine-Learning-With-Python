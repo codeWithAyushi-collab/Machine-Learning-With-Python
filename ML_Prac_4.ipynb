{
  "nbformat": 4,
  "nbformat_minor": 0,
  "metadata": {
    "colab": {
      "provenance": []
    },
    "kernelspec": {
      "name": "python3",
      "display_name": "Python 3"
    },
    "language_info": {
      "name": "python"
    }
  },
  "cells": [
    {
      "cell_type": "code",
      "source": [
        "# Import necessary libraries\n",
        "from sklearn.model_selection import train_test_split\n",
        "from sklearn.linear_model import Lasso, Ridge\n",
        "from sklearn.metrics import mean_squared_error, r2_score\n",
        "import pandas as pd\n",
        "from sklearn.datasets import load_wine\n",
        "\n",
        "# Load the Wine dataset\n",
        "wine = load_wine()\n",
        "df = pd.DataFrame(wine.data, columns=wine.feature_names)\n",
        "df['target'] = wine.target\n",
        "\n",
        "# Split the dataset into features (X) and target (y)\n",
        "X = df.drop(columns=['target'])\n",
        "y = df['target']\n",
        "\n",
        "# Train-test split\n",
        "X_train, X_test, y_train, y_test = train_test_split(X, y, test_size=0.2, random_state=42)"
      ],
      "metadata": {
        "id": "mXtDi24oMv1I"
      },
      "execution_count": null,
      "outputs": []
    },
    {
      "cell_type": "code",
      "source": [
        "# Lasso Regression\n",
        "# Initialize and fit the Lasso model\n",
        "lasso_regressor = Lasso(alpha=0.1)  # You can tune the alpha parameter\n",
        "lasso_regressor.fit(X_train, y_train)\n",
        "\n",
        "# Predicting the target on the test data\n",
        "y_pred_lasso = lasso_regressor.predict(X_test)\n",
        "\n",
        "# Evaluate the model\n",
        "mse_lasso = mean_squared_error(y_test, y_pred_lasso)\n",
        "r2_lasso = r2_score(y_test, y_pred_lasso)\n",
        "\n",
        "# Print results for Lasso Regression\n",
        "print(f\"Lasso Regression - Mean Squared Error (MSE): {mse_lasso}\")\n",
        "print(f\"Lasso Regression - R²: {r2_lasso}\")\n"
      ],
      "metadata": {
        "colab": {
          "base_uri": "https://localhost:8080/"
        },
        "id": "2Oast-lkRYGV",
        "outputId": "f83e6726-61a9-488c-af85-a126c327ed2c"
      },
      "execution_count": null,
      "outputs": [
        {
          "output_type": "stream",
          "name": "stdout",
          "text": [
            "Lasso Regression - Mean Squared Error (MSE): 0.09318492434556226\n",
            "Lasso Regression - R²: 0.8402544154076075\n"
          ]
        }
      ]
    },
    {
      "cell_type": "code",
      "source": [
        "# Ridge Regression\n",
        "# Initialize and fit the Ridge model\n",
        "ridge_regressor = Ridge(alpha=0.1)  # You can tune the alpha parameter\n",
        "ridge_regressor.fit(X_train, y_train)\n",
        "\n",
        "# Predicting the target on the test data\n",
        "y_pred_ridge = ridge_regressor.predict(X_test)\n",
        "\n",
        "# Evaluate the model\n",
        "mse_ridge = mean_squared_error(y_test, y_pred_ridge)\n",
        "r2_ridge = r2_score(y_test, y_pred_ridge)\n",
        "\n",
        "# Print results for Ridge Regression\n",
        "print(f\"Ridge Regression - Mean Squared Error (MSE): {mse_ridge}\")\n",
        "print(f\"Ridge Regression - R²: {r2_ridge}\")\n"
      ],
      "metadata": {
        "colab": {
          "base_uri": "https://localhost:8080/"
        },
        "id": "LZNRxDDTRdo6",
        "outputId": "e81bd307-decf-4a48-e5ca-80528f233650"
      },
      "execution_count": null,
      "outputs": [
        {
          "output_type": "stream",
          "name": "stdout",
          "text": [
            "Ridge Regression - Mean Squared Error (MSE): 0.06845783066220044\n",
            "Ridge Regression - R²: 0.8826437188647992\n"
          ]
        }
      ]
    },
    {
      "cell_type": "code",
      "source": [],
      "metadata": {
        "id": "1ng_Q2IcRvJF"
      },
      "execution_count": null,
      "outputs": []
    }
  ]
}