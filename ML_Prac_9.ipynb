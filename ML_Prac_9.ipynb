{
  "nbformat": 4,
  "nbformat_minor": 0,
  "metadata": {
    "colab": {
      "provenance": []
    },
    "kernelspec": {
      "name": "python3",
      "display_name": "Python 3"
    },
    "language_info": {
      "name": "python"
    }
  },
  "cells": [
    {
      "cell_type": "code",
      "source": [
        "  # Import necessary libraries\n",
        "from sklearn.cluster import KMeans\n",
        "from sklearn.metrics import silhouette_score\n",
        "from sklearn.model_selection import train_test_split\n",
        "from sklearn.datasets import load_wine\n",
        "import pandas as pd\n",
        "\n",
        "# Load the Wine dataset\n",
        "wine = load_wine()\n",
        "df = pd.DataFrame(wine.data, columns=wine.feature_names)\n",
        "\n",
        "# You can use the features without the target for clustering\n",
        "X = df\n"
      ],
      "metadata": {
        "id": "-8VA9sh0PUzy"
      },
      "execution_count": null,
      "outputs": []
    },
    {
      "cell_type": "code",
      "source": [
        "# Train-test split (although not necessary for clustering, it's for evaluation in this context)\n",
        "X_train, X_test = train_test_split(X, test_size=0.2, random_state=42)\n",
        "\n",
        "# Initialize the KMeans model\n",
        "kmeans = KMeans(n_clusters=3, random_state=42)  # Set n_clusters based on the dataset or domain knowledge\n",
        "\n",
        "# Train the model\n",
        "kmeans.fit(X_train)\n",
        "\n",
        "# Make predictions (cluster assignments)\n",
        "y_pred_kmeans = kmeans.predict(X_test)\n",
        "\n",
        "# Evaluate the clustering using silhouette score (optional)\n",
        "sil_score = silhouette_score(X_test, y_pred_kmeans)\n",
        "print(f\"K-Means Clustering - Silhouette Score: {sil_score}\")\n"
      ],
      "metadata": {
        "colab": {
          "base_uri": "https://localhost:8080/"
        },
        "id": "YUxaLk_iTRtq",
        "outputId": "fd4ed423-0718-4331-df6e-3669584705cf"
      },
      "execution_count": null,
      "outputs": [
        {
          "output_type": "stream",
          "name": "stdout",
          "text": [
            "K-Means Clustering - Silhouette Score: 0.5698497328652201\n"
          ]
        }
      ]
    },
    {
      "cell_type": "code",
      "source": [],
      "metadata": {
        "id": "97BEvSAQTbvk"
      },
      "execution_count": null,
      "outputs": []
    }
  ]
}